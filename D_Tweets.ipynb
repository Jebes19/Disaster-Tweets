{
 "cells": [
  {
   "cell_type": "code",
   "execution_count": 1,
   "id": "7f556243-2004-40c6-9432-9c5d7d2c9c85",
   "metadata": {},
   "outputs": [],
   "source": [
    "import os\n",
    "os.environ['TF_CPP_MIN_LOG_LEVEL'] = '3'  # Supress TF nuisance error messages for final run\n",
    "import numpy as np\n",
    "\n",
    "import matplotlib.pyplot as plt\n",
    "import tensorflow as tf\n",
    "import pandas as pd\n",
    "\n",
    "from keras.utils import text_dataset_from_directory"
   ]
  },
  {
   "cell_type": "markdown",
   "id": "37533e5e-3f10-410b-b3eb-9994ee14e55a",
   "metadata": {},
   "source": [
    "# Problem\n",
    "Twitter (now X) is an active and real time communication device. When a user witnesses a disaster first hand and immediately posts about their experience, that can someitmes be the very first report of the event. When responding to disasters, timeliness is often the most critical component and therefore these posts might serve as a valuable early warning system for disaster response agencies. \n",
    "The problem arises from the limited reach of most of these posts. An automated system could search new posts for evidence of a disaster ongoing, but the automated system would not reliably know the difference between colorful language and an actual disaster. Consider the following examples:\n",
    "    \n",
    "    'This band is fire, playing on the roof of my apartment! I am on Twitter when I should probably be dancing up there.'\n",
    "    \n",
    "    'There is a fire on the third floor of my apartment! I am on Twitter when I should probably be getting out of here.'\n",
    "    \n",
    "The only disaster in the first post might be the poster's dancing, but the second post is an early report of an extremely dangerous situation and live information from someone still in the building. \n",
    "\n",
    "For this project we are going to program a recurrent neural network to attempt to learn the context of the language chosen well enough to determine which posts are reports of a real disaster (1) and which posts are not (0)\n",
    "\n",
    "To set up this rnn, I adapted the keras tutorial on rnn networks.  \n",
    "\n",
    "https://www.tensorflow.org/text/tutorials/text_classification_rnn\n",
    "\n",
    "https://www.tensorflow.org/tutorials/load_data/text\n"
   ]
  },
  {
   "cell_type": "markdown",
   "id": "4608ec44-bb40-4847-a67d-dde15f60e16b",
   "metadata": {},
   "source": [
    "# Data\n",
    "The data are provided from the kaggle competition, Natural Language Processing with Disaster Tweets, https://www.kaggle.com/c/nlp-getting-started/overview. The data is in a train.csv file and a test set in test.csv. The training data has handmarked labels provided for each of the posts as well as some meta data on some of the posts including location and a keyword which was initially used to flag the posts as potential \"disaster tweets\"\n"
   ]
  },
  {
   "cell_type": "code",
   "execution_count": 2,
   "id": "90c75b95-4856-4c3f-9450-13fc523b3a36",
   "metadata": {},
   "outputs": [],
   "source": [
    "with open('train.csv') as f:\n",
    "    train_df = pd.read_csv(f)"
   ]
  },
  {
   "cell_type": "code",
   "execution_count": 3,
   "id": "fa96b9df-37c2-471c-a470-331c08a973fa",
   "metadata": {},
   "outputs": [
    {
     "name": "stdout",
     "output_type": "stream",
     "text": [
      "<class 'pandas.core.frame.DataFrame'>\n",
      "RangeIndex: 7613 entries, 0 to 7612\n",
      "Data columns (total 5 columns):\n",
      " #   Column    Non-Null Count  Dtype \n",
      "---  ------    --------------  ----- \n",
      " 0   id        7613 non-null   int64 \n",
      " 1   keyword   7552 non-null   object\n",
      " 2   location  5080 non-null   object\n",
      " 3   text      7613 non-null   object\n",
      " 4   target    7613 non-null   int64 \n",
      "dtypes: int64(2), object(3)\n",
      "memory usage: 297.5+ KB\n"
     ]
    }
   ],
   "source": [
    "train_df.info()"
   ]
  },
  {
   "cell_type": "markdown",
   "id": "d94fc671-ba8f-4cef-b287-872dabeb918d",
   "metadata": {},
   "source": [
    "### There are 7613 tweets of various lengths and variety of topics. Some of them are about disasters or other emergencies and the others are about anything else. "
   ]
  },
  {
   "cell_type": "code",
   "execution_count": 4,
   "id": "4c2b73a1-8ada-4f15-bdef-fc04f1edf202",
   "metadata": {},
   "outputs": [
    {
     "data": {
      "text/html": [
       "<div>\n",
       "<style scoped>\n",
       "    .dataframe tbody tr th:only-of-type {\n",
       "        vertical-align: middle;\n",
       "    }\n",
       "\n",
       "    .dataframe tbody tr th {\n",
       "        vertical-align: top;\n",
       "    }\n",
       "\n",
       "    .dataframe thead th {\n",
       "        text-align: right;\n",
       "    }\n",
       "</style>\n",
       "<table border=\"1\" class=\"dataframe\">\n",
       "  <thead>\n",
       "    <tr style=\"text-align: right;\">\n",
       "      <th></th>\n",
       "      <th>id</th>\n",
       "      <th>keyword</th>\n",
       "      <th>location</th>\n",
       "      <th>text</th>\n",
       "      <th>target</th>\n",
       "    </tr>\n",
       "  </thead>\n",
       "  <tbody>\n",
       "    <tr>\n",
       "      <th>4917</th>\n",
       "      <td>7002</td>\n",
       "      <td>mayhem</td>\n",
       "      <td>Raleigh, NC</td>\n",
       "      <td>I liked a @YouTube video from @itsjustinstuart...</td>\n",
       "      <td>1</td>\n",
       "    </tr>\n",
       "    <tr>\n",
       "      <th>4355</th>\n",
       "      <td>6187</td>\n",
       "      <td>hijacker</td>\n",
       "      <td>San Francisco</td>\n",
       "      <td>Governor allows parole for California school b...</td>\n",
       "      <td>1</td>\n",
       "    </tr>\n",
       "    <tr>\n",
       "      <th>7098</th>\n",
       "      <td>10171</td>\n",
       "      <td>violent%20storm</td>\n",
       "      <td>NaN</td>\n",
       "      <td>#Amsterdam POV video captures violent landing ...</td>\n",
       "      <td>1</td>\n",
       "    </tr>\n",
       "    <tr>\n",
       "      <th>5173</th>\n",
       "      <td>7378</td>\n",
       "      <td>obliterate</td>\n",
       "      <td>NaN</td>\n",
       "      <td>Wondering if gold could gap up $50 on the jobs...</td>\n",
       "      <td>0</td>\n",
       "    </tr>\n",
       "    <tr>\n",
       "      <th>2764</th>\n",
       "      <td>3970</td>\n",
       "      <td>devastation</td>\n",
       "      <td>Victoria, British Columbia</td>\n",
       "      <td>@Pam_Palmater i agree with @perrybellegarde to...</td>\n",
       "      <td>1</td>\n",
       "    </tr>\n",
       "    <tr>\n",
       "      <th>6237</th>\n",
       "      <td>8906</td>\n",
       "      <td>snowstorm</td>\n",
       "      <td>Louisiana, USA</td>\n",
       "      <td>you're the snowstorm I'm purified. the darkest...</td>\n",
       "      <td>0</td>\n",
       "    </tr>\n",
       "    <tr>\n",
       "      <th>968</th>\n",
       "      <td>1401</td>\n",
       "      <td>body%20bag</td>\n",
       "      <td>NaN</td>\n",
       "      <td>Check out Vintage Longaberger Floral Fabric Sh...</td>\n",
       "      <td>0</td>\n",
       "    </tr>\n",
       "    <tr>\n",
       "      <th>6498</th>\n",
       "      <td>9290</td>\n",
       "      <td>sunk</td>\n",
       "      <td>NaN</td>\n",
       "      <td>The Seven Seas - Wreck of the Giannis D. sunk ...</td>\n",
       "      <td>1</td>\n",
       "    </tr>\n",
       "    <tr>\n",
       "      <th>4683</th>\n",
       "      <td>6658</td>\n",
       "      <td>landslide</td>\n",
       "      <td>Dundee, UK</td>\n",
       "      <td>Army veteran fears loose rocks from Dundee lan...</td>\n",
       "      <td>1</td>\n",
       "    </tr>\n",
       "    <tr>\n",
       "      <th>6719</th>\n",
       "      <td>9625</td>\n",
       "      <td>thunderstorm</td>\n",
       "      <td>East Coast</td>\n",
       "      <td>THE NATIONAL WEATHER SERVICE IN LITTLE ROCK HA...</td>\n",
       "      <td>1</td>\n",
       "    </tr>\n",
       "  </tbody>\n",
       "</table>\n",
       "</div>"
      ],
      "text/plain": [
       "         id          keyword                    location  \\\n",
       "4917   7002           mayhem                 Raleigh, NC   \n",
       "4355   6187         hijacker               San Francisco   \n",
       "7098  10171  violent%20storm                         NaN   \n",
       "5173   7378       obliterate                         NaN   \n",
       "2764   3970      devastation  Victoria, British Columbia   \n",
       "6237   8906        snowstorm              Louisiana, USA   \n",
       "968    1401       body%20bag                         NaN   \n",
       "6498   9290             sunk                         NaN   \n",
       "4683   6658        landslide                  Dundee, UK   \n",
       "6719   9625     thunderstorm                  East Coast   \n",
       "\n",
       "                                                   text  target  \n",
       "4917  I liked a @YouTube video from @itsjustinstuart...       1  \n",
       "4355  Governor allows parole for California school b...       1  \n",
       "7098  #Amsterdam POV video captures violent landing ...       1  \n",
       "5173  Wondering if gold could gap up $50 on the jobs...       0  \n",
       "2764  @Pam_Palmater i agree with @perrybellegarde to...       1  \n",
       "6237  you're the snowstorm I'm purified. the darkest...       0  \n",
       "968   Check out Vintage Longaberger Floral Fabric Sh...       0  \n",
       "6498  The Seven Seas - Wreck of the Giannis D. sunk ...       1  \n",
       "4683  Army veteran fears loose rocks from Dundee lan...       1  \n",
       "6719  THE NATIONAL WEATHER SERVICE IN LITTLE ROCK HA...       1  "
      ]
     },
     "execution_count": 4,
     "metadata": {},
     "output_type": "execute_result"
    }
   ],
   "source": [
    "train_df.sample(10)"
   ]
  },
  {
   "cell_type": "markdown",
   "id": "8a559898-ce1b-4739-bcb0-564662e9530d",
   "metadata": {},
   "source": [
    "# Cleaning\n",
    "\n",
    "Cleaning this data is primarly about putting it into a format that the Keras module prefers for loading datasets. I have also chosen to proceed without the other metadata keywords added in the set and the location. The keywords should get picke dup by the model if they are relevant and location can't be relevant to disasters since they can happen anywhere. \n",
    "\n",
    "## Convert data to keras preferred format\n",
    "Keras text_dataset_from_directory method requires text to be in separate files and sorted in labelled folders"
   ]
  },
  {
   "cell_type": "code",
   "execution_count": 5,
   "id": "a2c1f4d5-d392-4d1c-b5f1-9e4b36e37b3d",
   "metadata": {},
   "outputs": [],
   "source": [
    "# Keeping only the tweets, labels and id from the posts\n",
    "\n",
    "tweets = train_df['text'].values\n",
    "labels = train_df['target'].values\n",
    "ids = train_df['id'].values"
   ]
  },
  {
   "cell_type": "code",
   "execution_count": 6,
   "id": "f0fd4e0b-22a6-43f4-b165-0875f85815bf",
   "metadata": {},
   "outputs": [],
   "source": [
    "for id, tweet, label in zip(ids, tweets,labels):\n",
    "    with open(f'train/{label}/{id}.txt', 'w') as f:\n",
    "        f.write(tweet)"
   ]
  },
  {
   "cell_type": "code",
   "execution_count": 7,
   "id": "4e4ff4d4-9ebe-4152-82ad-4de622fc8fd4",
   "metadata": {},
   "outputs": [
    {
     "data": {
      "image/png": "[encoded data removed]",
      "text/plain": [
       "<Figure size 640x480 with 1 Axes>"
      ]
     },
     "metadata": {},
     "output_type": "display_data"
    }
   ],
   "source": [
    "every_day_tweets = len(os.listdir('train/0'))\n",
    "disaster_tweets = len(os.listdir('train/1'))\n",
    "\n",
    "labels = ['Disaster Tweets', 'Every Day Tweets']\n",
    "values = [disaster_tweets, every_day_tweets]\n",
    "\n",
    "# Create the bar plot\n",
    "plt.bar(labels, values)\n",
    "\n",
    "# Set the title and labels for the axes\n",
    "plt.title('Data classification balance')\n",
    "plt.xlabel('Classification')\n",
    "plt.ylabel('Tweets')\n",
    "\n",
    "# Display the histogram\n",
    "plt.show()"
   ]
  },
  {
   "cell_type": "markdown",
   "id": "f34edec9-8199-4957-adb8-35cdf84a1008",
   "metadata": {},
   "source": [
    "### Convert the test data to individual files as well"
   ]
  },
  {
   "cell_type": "code",
   "execution_count": 8,
   "id": "ddd33339-a70a-4010-92d4-22973537b222",
   "metadata": {},
   "outputs": [],
   "source": [
    "# Write each of the test tweets to inividual files\n",
    "\n",
    "with open('test.csv') as f:\n",
    "    test_df = pd.read_csv(f)\n",
    "tweets = test_df['text'].values\n",
    "ids = test_df['id'].values\n",
    "for id, tweet in zip(ids, tweets):\n",
    "    with open(f'test/{id}.txt', 'w') as f:\n",
    "        f.write(tweet)"
   ]
  },
  {
   "cell_type": "markdown",
   "id": "b278a7df-23ee-4a2c-9630-7e85b8bd09ee",
   "metadata": {},
   "source": [
    "# Load Data Sets"
   ]
  },
  {
   "cell_type": "code",
   "execution_count": 9,
   "id": "667e1337-8505-48f1-b783-1024ee483e52",
   "metadata": {},
   "outputs": [
    {
     "name": "stdout",
     "output_type": "stream",
     "text": [
      "Found 7613 files belonging to 2 classes.\n",
      "Using 6091 files for training.\n",
      "Using 1522 files for validation.\n"
     ]
    }
   ],
   "source": [
    "# Keras loads the data and splits it into an 80% training set and 20% validation set (as set in the below parameters) \n",
    "\n",
    "train_ds, valid_ds = text_dataset_from_directory(\n",
    "    'train',\n",
    "    labels='inferred',\n",
    "    label_mode='int',\n",
    "    class_names=None,\n",
    "    batch_size=None,\n",
    "    max_length=None,\n",
    "    shuffle=True,\n",
    "    seed=43,\n",
    "    validation_split=0.2,\n",
    "    subset='both',\n",
    "    follow_links=False\n",
    ")"
   ]
  },
  {
   "cell_type": "code",
   "execution_count": 10,
   "id": "a17b5c07-fb7e-4feb-b49d-0a097bcfd24e",
   "metadata": {},
   "outputs": [
    {
     "data": {
      "text/plain": [
       "(TensorSpec(shape=(), dtype=tf.string, name=None),\n",
       " TensorSpec(shape=(), dtype=tf.int32, name=None))"
      ]
     },
     "execution_count": 10,
     "metadata": {},
     "output_type": "execute_result"
    }
   ],
   "source": [
    "# One of the early problems was getting the shape of the data correct\n",
    "train_ds.element_spec"
   ]
  },
  {
   "cell_type": "code",
   "execution_count": 11,
   "id": "4caa6342-a882-4dd2-91b0-7d4d18b51306",
   "metadata": {},
   "outputs": [
    {
     "data": {
      "text/plain": [
       "(TensorSpec(shape=(), dtype=tf.string, name=None),\n",
       " TensorSpec(shape=(), dtype=tf.int32, name=None))"
      ]
     },
     "execution_count": 11,
     "metadata": {},
     "output_type": "execute_result"
    }
   ],
   "source": [
    "valid_ds.element_spec"
   ]
  },
  {
   "cell_type": "code",
   "execution_count": 12,
   "id": "78fe5a26-07c6-477f-8f60-4daa342399e2",
   "metadata": {},
   "outputs": [
    {
     "name": "stdout",
     "output_type": "stream",
     "text": [
      "Tweet:  b\"I know it's a question of interpretation but this is a sign of the apocalypse.  I called it https://t.co/my8q1uWIjn\"\n",
      "Label:  1\n"
     ]
    }
   ],
   "source": [
    "# Example of one data point in the new format\n",
    "for example, label in train_ds.take(1):\n",
    "  print('Tweet: ', example.numpy())\n",
    "  print('Label: ', label.numpy())"
   ]
  },
  {
   "cell_type": "code",
   "execution_count": 13,
   "id": "5850e5e9-fd2a-47e8-9853-f64e9f1f063a",
   "metadata": {},
   "outputs": [
    {
     "name": "stdout",
     "output_type": "stream",
     "text": [
      "Found 3263 files belonging to 1 classes.\n"
     ]
    }
   ],
   "source": [
    "# Also load the Test data as a dataset\n",
    "test_ds = text_dataset_from_directory('test', labels=None)"
   ]
  },
  {
   "cell_type": "code",
   "execution_count": 14,
   "id": "608fd618-48e9-4215-9d90-1e53c63a1a68",
   "metadata": {},
   "outputs": [],
   "source": [
    "# Alogrithm optimization methods to preload as much data as possible to speed up run-time\n",
    "buffer_size = 10000\n",
    "batch_size = 64\n",
    "train_ds = train_ds.shuffle(buffer_size).batch(batch_size).prefetch(tf.data.AUTOTUNE)\n",
    "valid_ds = valid_ds.batch(batch_size).prefetch(tf.data.AUTOTUNE)\n",
    "test_ds = test_ds.prefetch(buffer_size=tf.data.AUTOTUNE)"
   ]
  },
  {
   "cell_type": "code",
   "execution_count": 15,
   "id": "44e2cbbf-52d5-4169-9bbc-6f372d94bcd4",
   "metadata": {},
   "outputs": [
    {
     "data": {
      "text/plain": [
       "(TensorSpec(shape=(None,), dtype=tf.string, name=None),\n",
       " TensorSpec(shape=(None,), dtype=tf.int32, name=None))"
      ]
     },
     "execution_count": 15,
     "metadata": {},
     "output_type": "execute_result"
    }
   ],
   "source": [
    "# Data has now changed into a data set of batches \n",
    "train_ds.element_spec"
   ]
  },
  {
   "cell_type": "code",
   "execution_count": 16,
   "id": "4445ec08-08af-4ea1-87ba-08c418e9169d",
   "metadata": {},
   "outputs": [
    {
     "data": {
      "text/plain": [
       "(TensorSpec(shape=(None,), dtype=tf.string, name=None),\n",
       " TensorSpec(shape=(None,), dtype=tf.int32, name=None))"
      ]
     },
     "execution_count": 16,
     "metadata": {},
     "output_type": "execute_result"
    }
   ],
   "source": [
    "valid_ds.element_spec"
   ]
  },
  {
   "cell_type": "markdown",
   "id": "79a67fb5-2c65-4707-8a99-a7434deea046",
   "metadata": {},
   "source": [
    "### Now the dataset is in batches so take(1) pulls a list of tweets instead of only 1 "
   ]
  },
  {
   "cell_type": "code",
   "execution_count": 17,
   "id": "ed1c39d2-16c1-4c21-b0dc-05e70006539b",
   "metadata": {},
   "outputs": [
    {
     "name": "stdout",
     "output_type": "stream",
     "text": [
      "Tweets:  [b'I love fruits'\n",
      " b'1 hour parade like 50 people collapsed. #OneHeartOneMindOneCSS'\n",
      " b'AMBULANCE SPRINTER AUTOMATIC FRONTLINE VEHICLE CHOICE OF 14 LEZ COMPLIANT | eBay http://t.co/4evTTqPEia']\n",
      "\n",
      "labels:  [0 1 0]\n"
     ]
    }
   ],
   "source": [
    "# sample data is now a list so I print just three from the list. \n",
    "for example, label in train_ds.take(1):\n",
    "  print('Tweets: ', example.numpy()[:3])\n",
    "  print()\n",
    "  print('labels: ', label.numpy()[:3])"
   ]
  },
  {
   "cell_type": "code",
   "execution_count": 18,
   "id": "9f3a83d2-200b-4349-9cdf-58c0520e4eb3",
   "metadata": {},
   "outputs": [
    {
     "name": "stdout",
     "output_type": "stream",
     "text": [
      "Tweets:  [b'2 Burning Man Tickets + Vehicle Pass - Full read by eBay http://t.co/b0eS3ZIORK http://t.co/juIIt2YFVo'\n",
      " b'4 Printable Emergency Plan Templates\\nhttp://t.co/nAex0Q1Ax0'\n",
      " b'Ogun smugglers engage Customs in shootout\\xc3\\xa5\\xc3\\x8a: Several persons were allegedly injured on Wednesday when men o... http://t.co/pUXBC2LoYK #RT']\n",
      "\n",
      "labels:  [0 0 1]\n"
     ]
    }
   ],
   "source": [
    "for example, label in valid_ds.take(1):\n",
    "  print('Tweets: ', example.numpy()[:3])\n",
    "  print()\n",
    "  print('labels: ', label.numpy()[:3])"
   ]
  },
  {
   "cell_type": "markdown",
   "id": "9f05c7d5-6c84-41c7-a036-8c754148fefe",
   "metadata": {},
   "source": [
    "# Text encoding\n",
    "\n",
    "The RNN operator off of the data as numbers so it needs to be encoded in order to set the weights. The TextVectorization layer built into Keras is quite complex, built of a number of sub layers. \n",
    "1. It breaks the words into tokens. \n",
    "2. It counts the most common tokens to build a vocabulary up to the size granted with the VOCAB_SIZE parameter\n",
    "3. The vocabulary words are assigned an integer value. This stands in as an identifier for the word.\n",
    "4. The input text is converted to vector of these integers. Replacing the English sentences with these lists of numbers."
   ]
  },
  {
   "cell_type": "code",
   "execution_count": 19,
   "id": "a750b04d-6d26-4021-b956-ef12d9b2e354",
   "metadata": {},
   "outputs": [],
   "source": [
    "VOCAB_SIZE = 3000\n",
    "encoder = tf.keras.layers.TextVectorization(\n",
    "    max_tokens=VOCAB_SIZE)\n",
    "encoder.adapt(train_ds.map(lambda text, label: text))"
   ]
  },
  {
   "cell_type": "code",
   "execution_count": 20,
   "id": "9fb51891-d750-41d8-9dba-5feea7ddc108",
   "metadata": {},
   "outputs": [
    {
     "data": {
      "text/plain": [
       "array(['', '[UNK]', 'the', 'a', 'to', 'in', 'of', 'and', 'i', 'is', 'for',\n",
       "       'on', 'you', 'my', 'with', 'it', 'that', 'by', 'at', 'this'],\n",
       "      dtype='<U19')"
      ]
     },
     "execution_count": 20,
     "metadata": {},
     "output_type": "execute_result"
    }
   ],
   "source": [
    "vocab = np.array(encoder.get_vocabulary())\n",
    "vocab[:20]"
   ]
  },
  {
   "cell_type": "markdown",
   "id": "a1fd1d56-52c1-4310-91bc-cd7d9413e7d9",
   "metadata": {},
   "source": [
    "# Build the Model"
   ]
  },
  {
   "cell_type": "code",
   "execution_count": 21,
   "id": "9ef44365-db8a-4111-98ec-ce67c0aea122",
   "metadata": {},
   "outputs": [],
   "source": [
    "model = tf.keras.Sequential([\n",
    "    encoder,\n",
    "    tf.keras.layers.Embedding(\n",
    "        input_dim=len(encoder.get_vocabulary()),\n",
    "        output_dim=64,\n",
    "        # Use masking to handle the variable sequence lengths\n",
    "        mask_zero=True),\n",
    "    tf.keras.layers.Bidirectional(tf.keras.layers.LSTM(64)),\n",
    "    tf.keras.layers.Dense(64, activation='relu'),\n",
    "    tf.keras.layers.Dense(1, activation='sigmoid')\n",
    "])"
   ]
  },
  {
   "cell_type": "code",
   "execution_count": 22,
   "id": "603d5709-c6af-40d8-abae-09a79eaf7027",
   "metadata": {},
   "outputs": [],
   "source": [
    "model.compile(loss=tf.keras.losses.BinaryCrossentropy(),\n",
    "              optimizer=tf.keras.optimizers.Adam(1e-4),\n",
    "              metrics=['accuracy'])"
   ]
  },
  {
   "cell_type": "markdown",
   "id": "527b2a06-8e39-4a02-99e8-918098819a4a",
   "metadata": {},
   "source": [
    "# Model Training"
   ]
  },
  {
   "cell_type": "code",
   "execution_count": 24,
   "id": "dcfc72c6-67ae-410b-bf20-28e5ea025868",
   "metadata": {},
   "outputs": [],
   "source": [
    "early_stopping = tf.keras.callbacks.EarlyStopping(\n",
    "    monitor='val_loss',\n",
    "    patience=3,\n",
    "    restore_best_weights=True)"
   ]
  },
  {
   "cell_type": "code",
   "execution_count": 25,
   "id": "b5d6331c-c644-449c-9539-e3da950c7165",
   "metadata": {},
   "outputs": [
    {
     "name": "stdout",
     "output_type": "stream",
     "text": [
      "Epoch 1/10\n"
     ]
    },
    {
     "name": "stderr",
     "output_type": "stream",
     "text": [
      "WARNING: All log messages before absl::InitializeLog() is called are written to STDERR\n",
      "I0000 00:00:1708477817.018353   82577 device_compiler.h:186] Compiled cluster using XLA!  This line is logged at most once for the lifetime of the process.\n"
     ]
    },
    {
     "name": "stdout",
     "output_type": "stream",
     "text": [
      "96/96 [==============================] - 17s 116ms/step - loss: 0.6900 - accuracy: 0.5569 - val_loss: 0.6845 - val_accuracy: 0.5716\n",
      "Epoch 2/10\n",
      "96/96 [==============================] - 7s 69ms/step - loss: 0.6683 - accuracy: 0.5861 - val_loss: 0.6363 - val_accuracy: 0.6439\n",
      "Epoch 3/10\n",
      "96/96 [==============================] - 5s 52ms/step - loss: 0.5537 - accuracy: 0.7669 - val_loss: 0.5243 - val_accuracy: 0.7589\n",
      "Epoch 4/10\n",
      "96/96 [==============================] - 5s 48ms/step - loss: 0.4356 - accuracy: 0.8217 - val_loss: 0.5022 - val_accuracy: 0.7786\n",
      "Epoch 5/10\n",
      "96/96 [==============================] - 5s 47ms/step - loss: 0.3818 - accuracy: 0.8516 - val_loss: 0.4850 - val_accuracy: 0.7852\n",
      "Epoch 6/10\n",
      "96/96 [==============================] - 4s 45ms/step - loss: 0.3431 - accuracy: 0.8690 - val_loss: 0.5070 - val_accuracy: 0.7825\n",
      "Epoch 7/10\n",
      "96/96 [==============================] - 4s 42ms/step - loss: 0.3144 - accuracy: 0.8823 - val_loss: 0.5208 - val_accuracy: 0.7884\n",
      "Epoch 8/10\n",
      "96/96 [==============================] - 4s 42ms/step - loss: 0.2896 - accuracy: 0.8913 - val_loss: 0.5206 - val_accuracy: 0.7832\n"
     ]
    }
   ],
   "source": [
    "history = model.fit(train_ds, epochs=10,\n",
    "                    validation_data=valid_ds,\n",
    "                   callbacks=[early_stopping])"
   ]
  },
  {
   "cell_type": "code",
   "execution_count": 26,
   "id": "b69368cc-2e60-484f-bc6b-eed5c3d0f953",
   "metadata": {},
   "outputs": [
    {
     "name": "stdout",
     "output_type": "stream",
     "text": [
      "24/24 [==============================] - 0s 20ms/step - loss: 0.4850 - accuracy: 0.7852\n",
      "Validation Loss: 0.48498791456222534\n",
      "Validation Accuracy: 0.7851511240005493\n"
     ]
    }
   ],
   "source": [
    "valid_loss, valid_acc = model.evaluate(valid_ds)\n",
    "\n",
    "print('Validation Loss:', valid_loss)\n",
    "print('Validation Accuracy:', valid_acc)"
   ]
  },
  {
   "cell_type": "code",
   "execution_count": 27,
   "id": "c7885fea-8576-4053-b3fc-66f9cf451c75",
   "metadata": {},
   "outputs": [],
   "source": [
    "def plot_graphs(history, metric):\n",
    "  plt.plot(history.history[metric])\n",
    "  plt.plot(history.history['val_'+metric], '')\n",
    "  plt.xlabel(\"Epochs\")\n",
    "  plt.ylabel(metric)\n",
    "  plt.legend([metric, 'val_'+metric])"
   ]
  },
  {
   "cell_type": "code",
   "execution_count": 28,
   "id": "93966dc1-ec99-4288-9559-2342edf939b8",
   "metadata": {},
   "outputs": [
    {
     "data": {
      "text/plain": [
       "(0.0, 0.7099895000457763)"
      ]
     },
     "execution_count": 28,
     "metadata": {},
     "output_type": "execute_result"
    },
    {
     "data": {
      "image/png": "[encoded data removed]",
      "text/plain": [
       "<Figure size 1600x800 with 2 Axes>"
      ]
     },
     "metadata": {},
     "output_type": "display_data"
    }
   ],
   "source": [
    "plt.figure(figsize=(16, 8))\n",
    "plt.subplot(1, 2, 1)\n",
    "plot_graphs(history, 'accuracy')\n",
    "plt.ylim(None, 1)\n",
    "plt.subplot(1, 2, 2)\n",
    "plot_graphs(history, 'loss')\n",
    "plt.ylim(0, None)"
   ]
  },
  {
   "cell_type": "markdown",
   "id": "942cc7d4-1317-4b12-8f13-43a1b2bfbcc0",
   "metadata": {},
   "source": [
    "# Model Tuning\n",
    "\n",
    "The first attempt immediately reached maximum validity after the first two epochs so several items were added so reduce overfitting. \n",
    "1. Another LSTM layer was added to increase the recurrent nature of the model.\n",
    "2. A 50% drop out layer was added\n",
    "3. Activation of the final layer was changed to sigmoid in order to allow the binary classification of the outputs. "
   ]
  },
  {
   "cell_type": "code",
   "execution_count": 33,
   "id": "d1f97a23-f9fa-4d48-acf8-aef964eab48f",
   "metadata": {},
   "outputs": [],
   "source": [
    "model_2 = tf.keras.Sequential([\n",
    "    encoder,\n",
    "    tf.keras.layers.Embedding(len(encoder.get_vocabulary()), 64, mask_zero=True),\n",
    "    tf.keras.layers.Bidirectional(tf.keras.layers.LSTM(64,  return_sequences=True)),\n",
    "    tf.keras.layers.Bidirectional(tf.keras.layers.LSTM(32)),\n",
    "    tf.keras.layers.Dense(64, activation='relu'),\n",
    "    tf.keras.layers.Dropout(0.5),\n",
    "    tf.keras.layers.Dense(1, activation='sigmoid')\n",
    "])"
   ]
  },
  {
   "cell_type": "code",
   "execution_count": 34,
   "id": "37903509-9f1c-45c5-a0d3-c608d0a17e5f",
   "metadata": {},
   "outputs": [],
   "source": [
    "model_2.compile(optimizer=tf.keras.optimizers.Adam(1e-4), loss='binary_crossentropy', metrics=['accuracy'])"
   ]
  },
  {
   "cell_type": "code",
   "execution_count": 35,
   "id": "a84e4505-b22f-43b8-a0ec-356eac9a018f",
   "metadata": {},
   "outputs": [
    {
     "name": "stdout",
     "output_type": "stream",
     "text": [
      "Epoch 1/10\n",
      "96/96 [==============================] - 23s 141ms/step - loss: 0.6881 - accuracy: 0.5687 - val_loss: 0.6799 - val_accuracy: 0.5716\n",
      "Epoch 2/10\n",
      "96/96 [==============================] - 9s 90ms/step - loss: 0.6584 - accuracy: 0.6142 - val_loss: 0.6216 - val_accuracy: 0.7102\n",
      "Epoch 3/10\n",
      "96/96 [==============================] - 8s 83ms/step - loss: 0.5355 - accuracy: 0.7861 - val_loss: 0.5258 - val_accuracy: 0.7602\n",
      "Epoch 4/10\n",
      "96/96 [==============================] - 8s 83ms/step - loss: 0.4247 - accuracy: 0.8371 - val_loss: 0.5075 - val_accuracy: 0.7806\n",
      "Epoch 5/10\n",
      "96/96 [==============================] - 7s 76ms/step - loss: 0.3693 - accuracy: 0.8572 - val_loss: 0.5042 - val_accuracy: 0.7858\n",
      "Epoch 6/10\n",
      "96/96 [==============================] - 7s 77ms/step - loss: 0.3311 - accuracy: 0.8754 - val_loss: 0.5138 - val_accuracy: 0.7943\n",
      "Epoch 7/10\n",
      "96/96 [==============================] - 7s 76ms/step - loss: 0.3023 - accuracy: 0.8928 - val_loss: 0.5430 - val_accuracy: 0.7825\n",
      "Epoch 8/10\n",
      "96/96 [==============================] - 7s 77ms/step - loss: 0.2797 - accuracy: 0.9030 - val_loss: 0.5748 - val_accuracy: 0.7852\n"
     ]
    }
   ],
   "source": [
    "history = model_2.fit(train_ds, epochs=10,\n",
    "                    validation_data=valid_ds,\n",
    "                    callbacks=[early_stopping])"
   ]
  },
  {
   "cell_type": "code",
   "execution_count": 36,
   "id": "0d369a29-74da-4bfb-aabd-3a86766272dc",
   "metadata": {},
   "outputs": [
    {
     "name": "stdout",
     "output_type": "stream",
     "text": [
      "24/24 [==============================] - 1s 33ms/step - loss: 0.5042 - accuracy: 0.7858\n",
      "Validation Loss: 0.5042150616645813\n",
      "Validation Accuracy: 0.7858081459999084\n"
     ]
    }
   ],
   "source": [
    "valid_loss, valid_acc = model_2.evaluate(valid_ds)\n",
    "\n",
    "print('Validation Loss:', valid_loss)\n",
    "print('Validation Accuracy:', valid_acc)"
   ]
  },
  {
   "cell_type": "code",
   "execution_count": 37,
   "id": "4aeece55-3165-4f02-b180-ef923554c08c",
   "metadata": {},
   "outputs": [
    {
     "data": {
      "image/png": "[encoded data removed]",
      "text/plain": [
       "<Figure size 1600x600 with 2 Axes>"
      ]
     },
     "metadata": {},
     "output_type": "display_data"
    }
   ],
   "source": [
    "plt.figure(figsize=(16, 6))\n",
    "plt.subplot(1, 2, 1)\n",
    "plot_graphs(history, 'accuracy')\n",
    "plt.subplot(1, 2, 2)\n",
    "plot_graphs(history, 'loss')"
   ]
  },
  {
   "cell_type": "markdown",
   "id": "59ad3f82-4b9c-4fe1-abab-d6c42b4c97e3",
   "metadata": {},
   "source": [
    "# Manually checking results of the model\n",
    "\n",
    "### Everyday Tweets"
   ]
  },
  {
   "cell_type": "code",
   "execution_count": 81,
   "id": "b6fbbec7-9139-4dfc-b49e-5d5a34d7fba2",
   "metadata": {},
   "outputs": [
    {
     "name": "stdout",
     "output_type": "stream",
     "text": [
      "1/1 [==============================] - 0s 63ms/step\n"
     ]
    },
    {
     "data": {
      "text/plain": [
       "0"
      ]
     },
     "execution_count": 81,
     "metadata": {},
     "output_type": "execute_result"
    }
   ],
   "source": [
    "sample_text = ('I love pie!')\n",
    "round(model_2.predict([sample_text])[0,0])"
   ]
  },
  {
   "cell_type": "code",
   "execution_count": 82,
   "id": "0a627b4b-1aae-4833-9f0f-a2cf997d0dae",
   "metadata": {},
   "outputs": [
    {
     "name": "stdout",
     "output_type": "stream",
     "text": [
      "1/1 [==============================] - 0s 63ms/step\n"
     ]
    },
    {
     "data": {
      "text/plain": [
       "0"
      ]
     },
     "execution_count": 82,
     "metadata": {},
     "output_type": "execute_result"
    }
   ],
   "source": [
    "sample_text = ('This tweet is not about a real disaster')\n",
    "round(model_2.predict([sample_text])[0,0])"
   ]
  },
  {
   "cell_type": "markdown",
   "id": "b520d4c5-f5b8-40a1-a5c4-5d0d99d70c2f",
   "metadata": {},
   "source": [
    "### Clear cut Disasters"
   ]
  },
  {
   "cell_type": "code",
   "execution_count": 83,
   "id": "d0c57807",
   "metadata": {},
   "outputs": [
    {
     "name": "stdout",
     "output_type": "stream",
     "text": [
      "1/1 [==============================] - 0s 58ms/step\n"
     ]
    },
    {
     "data": {
      "text/plain": [
       "0"
      ]
     },
     "execution_count": 83,
     "metadata": {},
     "output_type": "execute_result"
    }
   ],
   "source": [
    "sample_text = ('This tweet is about a real disaster')\n",
    "round(model_2.predict([sample_text])[0,0])"
   ]
  },
  {
   "cell_type": "code",
   "execution_count": 84,
   "id": "13defd14-ab1a-45e5-989d-6a4cf7339d4c",
   "metadata": {},
   "outputs": [
    {
     "name": "stdout",
     "output_type": "stream",
     "text": [
      "1/1 [==============================] - 0s 63ms/step\n"
     ]
    },
    {
     "data": {
      "text/plain": [
       "0"
      ]
     },
     "execution_count": 84,
     "metadata": {},
     "output_type": "execute_result"
    }
   ],
   "source": [
    "sample_text = ('There is a fire on the third floor of my apartment!'\n",
    "               'I am on Twitter when I should probably be getting out of here.')\n",
    "round(model_2.predict([sample_text])[0,0])"
   ]
  },
  {
   "cell_type": "code",
   "execution_count": 85,
   "id": "0a0bfebe-5c27-472a-9a62-88c24501b1b2",
   "metadata": {},
   "outputs": [
    {
     "name": "stdout",
     "output_type": "stream",
     "text": [
      "1/1 [==============================] - 0s 68ms/step\n"
     ]
    },
    {
     "data": {
      "text/plain": [
       "1"
      ]
     },
     "execution_count": 85,
     "metadata": {},
     "output_type": "execute_result"
    }
   ],
   "source": [
    "sample_text = ('Just happened a terrible car crash')\n",
    "round(model_2.predict([sample_text])[0,0])"
   ]
  },
  {
   "cell_type": "markdown",
   "id": "8fcb85d8-c6ac-4d6e-8a5e-bce3954d50a9",
   "metadata": {},
   "source": [
    "### Very Context specific"
   ]
  },
  {
   "cell_type": "code",
   "execution_count": 86,
   "id": "4438c09b-c68f-4f5e-b587-df1f88a6a631",
   "metadata": {},
   "outputs": [
    {
     "name": "stdout",
     "output_type": "stream",
     "text": [
      "1/1 [==============================] - 0s 58ms/step\n"
     ]
    },
    {
     "data": {
      "text/plain": [
       "0"
      ]
     },
     "execution_count": 86,
     "metadata": {},
     "output_type": "execute_result"
    }
   ],
   "source": [
    "sample_text = ('This band is fire, playing on the roof of my apartment!  '\n",
    "               'I am on Twitter when I should probably be dancing up here.')\n",
    "round(model_2.predict([sample_text])[0,0])"
   ]
  },
  {
   "cell_type": "code",
   "execution_count": 87,
   "id": "a5f4f5c6-2832-4c40-adad-75684fed570e",
   "metadata": {},
   "outputs": [
    {
     "name": "stdout",
     "output_type": "stream",
     "text": [
      "1/1 [==============================] - 0s 60ms/step\n"
     ]
    },
    {
     "data": {
      "text/plain": [
       "1"
      ]
     },
     "execution_count": 87,
     "metadata": {},
     "output_type": "execute_result"
    }
   ],
   "source": [
    "sample_text = ('FIRE!')\n",
    "round(model_2.predict([sample_text])[0,0])"
   ]
  },
  {
   "cell_type": "markdown",
   "id": "289b644b-2f91-4e3f-82ae-9184128ad30f",
   "metadata": {},
   "source": [
    "# Create the test predictions for the Kaggle Competition"
   ]
  },
  {
   "cell_type": "code",
   "execution_count": 44,
   "id": "85203ff3-5669-4762-97e2-4225073a5032",
   "metadata": {},
   "outputs": [],
   "source": [
    "with open('test.csv') as f:\n",
    "    test_df = pd.read_csv(f)\n",
    "ids = test_df['id']"
   ]
  },
  {
   "cell_type": "code",
   "execution_count": 45,
   "id": "434032b3-bd16-45ff-927f-6287f9b9f4e3",
   "metadata": {},
   "outputs": [
    {
     "name": "stdout",
     "output_type": "stream",
     "text": [
      "102/102 [==============================] - 2s 19ms/step\n"
     ]
    }
   ],
   "source": [
    "# Make predictions using the trained model\n",
    "predictions = model.predict(test_ds)"
   ]
  },
  {
   "cell_type": "code",
   "execution_count": 46,
   "id": "6c589001-ad47-4c43-8592-c97d7a398e85",
   "metadata": {},
   "outputs": [],
   "source": [
    "predicted_classes = np.ravel(predictions >= 0.5).astype(int)"
   ]
  },
  {
   "cell_type": "code",
   "execution_count": 47,
   "id": "7c6e73cf-5e23-427a-9808-93b902b90ce2",
   "metadata": {},
   "outputs": [],
   "source": [
    "results = pd.DataFrame({'id': ids, 'target': predicted_classes})\n",
    "results.to_csv('test_predictions.csv', index=False)"
   ]
  },
  {
   "cell_type": "markdown",
   "id": "3ede8f14-ea6a-445b-868c-4fd44d78f14b",
   "metadata": {},
   "source": [
    "# Conclusion\n",
    "\n",
    "The model ended up with an 80% accuracy on the final outputs but the test sample submitted to Kaggle did barely better than random guessing. I do not think an RNN (or at least the LSTM model I chose) is an adequate method of actually capturing context of the tweets or determining the context. I think a large language model like GPT would be able to provide a much better understanding of the specific English sentences to determine context. \n",
    "\n",
    "The model tends to be heavily biased to missing disasters. The only sentences that generated a correct disaster classification was\n",
    "\n",
    "    \"Just happened a terrible car crash\" and \"FIRE!\"\n",
    "\n",
    "Looking at some of the other sample text submissions, I have to think that the model primarliy picked up on the fact that tweets about real disasters tend to be shorter than tweets about everyday occurences, probably due to the heightened stress that the poster is under. While this might be valuable insight, it doesn't go very far to help make this a useful model. \n",
    "\n",
    "If I were to attempt this again, I would try learning more about how GPT works and mimic that. \n"
   ]
  },
  {
   "cell_type": "code",
   "execution_count": null,
   "id": "36043287-7fb0-4b9d-ac94-f83ba2014fdc",
   "metadata": {},
   "outputs": [],
   "source": []
  }
 ],
 "metadata": {
  "kernelspec": {
   "display_name": "Python 3 (ipykernel)",
   "language": "python",
   "name": "python3"
  },
  "language_info": {
   "codemirror_mode": {
    "name": "ipython",
    "version": 3
   },
   "file_extension": ".py",
   "mimetype": "text/x-python",
   "name": "python",
   "nbconvert_exporter": "python",
   "pygments_lexer": "ipython3",
   "version": "3.9.18"
  }
 },
 "nbformat": 4,
 "nbformat_minor": 5
}
